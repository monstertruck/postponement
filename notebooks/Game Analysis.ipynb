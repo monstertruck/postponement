{
 "cells": [
  {
   "cell_type": "code",
   "execution_count": null,
   "id": "ca3383e4-86c9-4474-ab64-a11c5a5b6d6c",
   "metadata": {},
   "outputs": [],
   "source": [
    "import pandas as pd\n",
    "\n",
    "from statistics import geometric_mean\n",
    "from scipy.stats import percentileofscore"
   ]
  },
  {
   "cell_type": "code",
   "execution_count": null,
   "id": "37f4fbee-9c6d-4d2d-ba30-bddddb725629",
   "metadata": {},
   "outputs": [],
   "source": [
    "import json\n",
    "with open('../outputs/regular_season_2023_2024.json', 'r') as regular_season_file:\n",
    "    regular_season = json.load(regular_season_file)"
   ]
  },
  {
   "cell_type": "code",
   "execution_count": null,
   "id": "76f2fabb-36db-4a60-b934-931e7f54d074",
   "metadata": {},
   "outputs": [],
   "source": [
    "with open('../outputs/save_weather_2023_2024.json', 'r') as regular_season_weather_file:\n",
    "    regular_season_weather = json.load(regular_season_weather_file)"
   ]
  },
  {
   "cell_type": "code",
   "execution_count": null,
   "id": "b6036519-bab7-4e3c-a32c-d2bb429661fa",
   "metadata": {},
   "outputs": [],
   "source": [
    "regular_season_weather = [json.loads(x) for x in regular_season_weather]\n",
    "low_temps = [x.get('weather_summary').get('temp_low_f') for x in regular_season_weather]\n",
    "precips = [x.get('weather_summary').get('precipitation_mm') for x in regular_season_weather]\n",
    "\n",
    "score = [geometric_mean([percentileofscore(precips, x.get('weather_summary').get('precipitation_mm')), (101-percentileofscore(low_temps, x.get('weather_summary').get('temp_low_f')))]) for x in regular_season_weather]\n",
    "percentile_score = [percentileofscore(score, x) for x in score]"
   ]
  },
  {
   "cell_type": "code",
   "execution_count": null,
   "id": "6ba1c31d-2652-4f66-95a6-445f79a15191",
   "metadata": {},
   "outputs": [],
   "source": [
    "def parse_regular_season(game: dict) -> dict:\n",
    "    return {\n",
    "        \"gameId\": game.get(\"gameId\"),\n",
    "        \"awayTeam\": game.get(\"awayTeam\").get(\"teamTricode\"),\n",
    "    }\n",
    "\n",
    "def parse_weather(game: dict) -> dict:\n",
    "    return {\n",
    "        \"gameId\": game.get(\"game_id\"),\n",
    "        \"gameCode\": game.get(\"game_code\"),\n",
    "        \"homeTeam\": game.get(\"home_team\").get(\"teamTricode\"),\n",
    "        \"venue_name\": game.get(\"venue\").get(\"name\"),\n",
    "        \"homeDateTime\": game.get(\"home_datetime\")[0:10],\n",
    "        \"high_temperature\": game.get(\"weather_summary\").get(\"temp_high_f\"),\n",
    "        \"low_temperature\": game.get(\"weather_summary\").get(\"temp_low_f\"),\n",
    "        \"precipitation (mm)\": game.get(\"weather_summary\").get(\"precipitation_mm\"),\n",
    "    }"
   ]
  },
  {
   "cell_type": "code",
   "execution_count": null,
   "id": "9907ad2b-e89d-4c38-95e2-e95965fdf30d",
   "metadata": {},
   "outputs": [],
   "source": [
    "rsw_df = pd.DataFrame([parse_weather(x) for x in regular_season_weather])\n",
    "rs_df = pd.DataFrame([parse_regular_season(x) for x in regular_season])"
   ]
  },
  {
   "cell_type": "code",
   "execution_count": null,
   "id": "a4895542-6417-40e5-9454-28ed94f2c3ad",
   "metadata": {},
   "outputs": [],
   "source": [
    "merged = pd.merge(rsw_df, rs_df)\n",
    "merged = merged[['awayTeam', 'homeTeam', 'venue_name', 'homeDateTime', 'high_temperature', 'low_temperature', 'precipitation (mm)']]\n",
    "merged['percentile_score'] = percentile_score\n",
    "merged['score'] = score"
   ]
  },
  {
   "cell_type": "code",
   "execution_count": null,
   "id": "983698a5-e5c9-4fd9-a108-58b103617f77",
   "metadata": {},
   "outputs": [],
   "source": [
    "merged.to_csv('../outputs/game_data_2023_2024.csv', index=False)"
   ]
  }
 ],
 "metadata": {
  "kernelspec": {
   "display_name": "Practice (3.8.11)",
   "language": "python",
   "name": "practice"
  },
  "language_info": {
   "codemirror_mode": {
    "name": "ipython",
    "version": 3
   },
   "file_extension": ".py",
   "mimetype": "text/x-python",
   "name": "python",
   "nbconvert_exporter": "python",
   "pygments_lexer": "ipython3",
   "version": "3.8.11"
  }
 },
 "nbformat": 4,
 "nbformat_minor": 5
}
