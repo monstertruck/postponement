{
 "cells": [
  {
   "cell_type": "code",
   "execution_count": null,
   "id": "2657bc74-a196-4a02-96cf-44a657c9c0fb",
   "metadata": {},
   "outputs": [],
   "source": [
    "from datetime import datetime\n",
    "\n",
    "import os\n",
    "import requests\n",
    "import time\n",
    "\n",
    "from schema import NBAArena, NBATeam, WeatherSummary, NBAGame, NBAGameWeather, RegularSeason"
   ]
  },
  {
   "cell_type": "code",
   "execution_count": null,
   "id": "3906b34a-c000-4da2-800a-4c50fd56d456",
   "metadata": {},
   "outputs": [],
   "source": [
    "import csv\n",
    "with open('../data/arena_locations.csv', mode ='r') as file:\n",
    "    locations = [x for x in csv.DictReader(file)]"
   ]
  },
  {
   "cell_type": "code",
   "execution_count": null,
   "id": "e3e42f59-1443-48ac-81af-dd6c61b3de24",
   "metadata": {},
   "outputs": [],
   "source": [
    "def invert_locations(location_list: list) -> dict:\n",
    "    \n",
    "    arena_by_tricode = {}\n",
    "    \n",
    "    for arena in location_list:\n",
    "        arena_by_tricode[arena.get('team_code')] = NBAArena(\n",
    "            lat=arena.get('lat'),\n",
    "            lon=arena.get('lon'),\n",
    "            name=arena.get('arena'),\n",
    "        )\n",
    "        \n",
    "    return arena_by_tricode"
   ]
  },
  {
   "cell_type": "code",
   "execution_count": null,
   "id": "da674381-a0b5-44d0-817a-1f5500c7bf16",
   "metadata": {},
   "outputs": [],
   "source": [
    "import json\n",
    "with open('../data/scheduleLeagueV2.json', 'r') as schedule_file:\n",
    "    schedule_json = json.load(schedule_file)\n",
    "    \n",
    "games_2324 = schedule_json.get('leagueSchedule').get('gameDates')"
   ]
  },
  {
   "cell_type": "code",
   "execution_count": null,
   "id": "e41b1dcb-bdb0-46b0-93ce-c2737762319a",
   "metadata": {},
   "outputs": [],
   "source": [
    "OPENING_NIGHT_2023 = \"10/24/2023 00:00:00\"\n",
    "PLAYIN_START_2023 = \"04/16/2024 00:00:00\""
   ]
  },
  {
   "cell_type": "code",
   "execution_count": null,
   "id": "e748ad3f-d36b-44c5-a727-87fd9034d939",
   "metadata": {},
   "outputs": [],
   "source": [
    "opening_night_dt = datetime.strptime(OPENING_NIGHT_2023, \"%m/%d/%Y %H:%M:%S\")\n",
    "playin_start_dt = datetime.strptime(PLAYIN_START_2023, \"%m/%d/%Y %H:%M:%S\")"
   ]
  },
  {
   "cell_type": "code",
   "execution_count": null,
   "id": "e8d24bae-36d6-42f3-95b2-012df052288a",
   "metadata": {},
   "outputs": [],
   "source": [
    "GAMEDATE_FORMAT = \"%m/%d/%Y %H:%M:%S\"\n",
    "\n",
    "regular_season_games = []\n",
    "\n",
    "for game_date in games_2324:\n",
    "    game_dt = datetime.strptime(game_date.get(\"gameDate\"), GAMEDATE_FORMAT)\n",
    "    \n",
    "    if (game_dt < playin_start_dt) and (game_dt >= opening_night_dt):\n",
    "        if game_date.get('games')[0].get('gameLabel') in ['All-Star Game', 'Rising Stars Semifinal', 'Rising Stars Final']:\n",
    "            pass\n",
    "        else:\n",
    "            regular_season_games.extend(game_date.get('games'))"
   ]
  },
  {
   "cell_type": "code",
   "execution_count": null,
   "id": "80676320-77e0-45b5-a0b6-95f680bbcca0",
   "metadata": {},
   "outputs": [],
   "source": [
    "collect_team_games = {}\n",
    "for game in regular_season_games:\n",
    "    home_team = game.get('homeTeam').get('teamTricode')\n",
    "    away_team = game.get('awayTeam').get('teamTricode')\n",
    "    \n",
    "    if (home_team in ['TAM', 'JAL', 'PAU', 'DLF', 'EST']) or (away_team in ['TAM', 'JAL', 'PAU', 'DLF']):\n",
    "        print(game)\n",
    "    \n",
    "    \n",
    "    for team in [home_team, away_team]:\n",
    "        if team in collect_team_games.keys():\n",
    "            collect_team_games[team] += 1\n",
    "        else:\n",
    "            collect_team_games[team] = 1\n",
    "            \n",
    "assert len(regular_season_games) == (41*30) + 1, \"Game count should match\""
   ]
  },
  {
   "cell_type": "code",
   "execution_count": null,
   "id": "ee063d57-c386-45f2-b4a9-5d916b57da56",
   "metadata": {},
   "outputs": [],
   "source": [
    "# with open('regular_season_2023_2024.json', 'w') as regular_season_json:\n",
    "#     json.dump(regular_season_games, regular_season_json)"
   ]
  },
  {
   "cell_type": "code",
   "execution_count": null,
   "id": "fb1254b0-de5c-458f-9965-ba290f5cc6bc",
   "metadata": {},
   "outputs": [],
   "source": [
    "arena_by_tricode = invert_locations(locations)"
   ]
  },
  {
   "cell_type": "code",
   "execution_count": null,
   "id": "1962a22a-e325-4e76-b759-0b7ef6c4f3d4",
   "metadata": {},
   "outputs": [],
   "source": [
    "special_games = {\n",
    "    \"0022301229\": \"LAS\",\n",
    "    \"0022301230\": \"LAS\",\n",
    "    \"0062300001\": \"LAS\",\n",
    "    \"0022300527\": \"PAR\",\n",
    "    \"0022300965\": \"AUS\",\n",
    "    \"0022300981\": \"AUS\",\n",
    "}"
   ]
  },
  {
   "cell_type": "code",
   "execution_count": null,
   "id": "989d2873-f855-45cf-adce-f67aa5d1bd5b",
   "metadata": {},
   "outputs": [],
   "source": [
    "def type_game(game_dict: dict) -> NBAGame:\n",
    "    \"\"\"Convert a game dict into a 'typed' game object.\"\"\"\n",
    "    \n",
    "    home_tricode = game_dict.get(\"homeTeam\").get(\"teamTricode\")\n",
    "    \n",
    "    home_team = NBATeam(\n",
    "        teamTricode=home_tricode,\n",
    "    )\n",
    "\n",
    "    arena = arena_by_tricode.get(home_tricode)\n",
    "\n",
    "    if arena.name != game_dict.get('arenaName'):\n",
    "        if game_dict.get('gameId') in special_games:\n",
    "            arena = arena_by_tricode.get(special_games.get(game_dict.get('gameId')))\n",
    "        elif home_team.teamTricode == \"ORL\":\n",
    "            pass\n",
    "\n",
    "    return NBAGame(\n",
    "        game_id=game_dict.get(\"gameId\"),\n",
    "        game_code=game_dict.get(\"gameCode\"),\n",
    "        home_team=home_team,\n",
    "        venue=arena,\n",
    "        home_datetime=game_dict.get(\"homeTeamTime\"),\n",
    "        weather_summary=None,\n",
    "    )"
   ]
  },
  {
   "cell_type": "code",
   "execution_count": null,
   "id": "054bb097-cbcb-4380-9e3d-e2d01a31b8d3",
   "metadata": {},
   "outputs": [],
   "source": [
    "typed_regular_season = [type_game(x) for x in regular_season_games]"
   ]
  },
  {
   "cell_type": "code",
   "execution_count": null,
   "id": "04283a9f-acf5-43b8-a0fe-bd054e3b8ee2",
   "metadata": {},
   "outputs": [],
   "source": [
    "def call_openweathermap(lat: str, lon: str, date: str):\n",
    "    \"\"\"Call OpenWeatherMap API.\"\"\"\n",
    "    \n",
    "    api_key = os.environ.get(\"OPENWEATHERMAP_KEY\")\n",
    "    url = f\"https://api.openweathermap.org/data/3.0/onecall/day_summary?lat={lat}&lon={lon}&date={date}&appid={api_key}&units=imperial\"\n",
    "    \n",
    "    req = requests.get(url)\n",
    "    \n",
    "    weather_json = req.json()\n",
    "    \n",
    "    return weather_json\n",
    "\n",
    "\n",
    "def get_weather_for_game(game: NBAGame) -> NBAGameWeather:\n",
    "    \"\"\"Call weather API to get appropriate weather summary for an NBAGame.\"\"\"\n",
    "    \n",
    "    date_string = game.home_datetime[0:10]\n",
    "    \n",
    "    weather_json = call_openweathermap(\n",
    "        lat = str(game.venue.lat),\n",
    "        lon = str(game.venue.lon),\n",
    "        date = date_string\n",
    "    )\n",
    "    \n",
    "    game_weather = WeatherSummary(\n",
    "        temp_high_f = weather_json.get('temperature').get('max'),\n",
    "        temp_low_f = weather_json.get('temperature').get('min'),\n",
    "        precipitation_mm = weather_json.get('precipitation').get('total'),\n",
    "        wind_max_mph = weather_json.get('wind').get('max').get('speed'),\n",
    "    )\n",
    "    \n",
    "    return game_weather"
   ]
  },
  {
   "cell_type": "code",
   "execution_count": null,
   "id": "4035eaf5-dfec-4c35-8567-e5f1e9afad0c",
   "metadata": {},
   "outputs": [],
   "source": [
    "games_with_weather = []\n",
    "\n",
    "for game in typed_regular_season:\n",
    "    weather = get_weather_for_game(game)\n",
    "    \n",
    "    games_with_weather.append(\n",
    "        NBAGameWeather(\n",
    "            game_id=game.game_id,\n",
    "            game_code=game.game_code,\n",
    "            home_team=game.home_team,\n",
    "            venue=game.venue,\n",
    "            home_datetime=game.home_datetime,\n",
    "            weather_summary=weather,\n",
    "        )\n",
    "    )\n",
    "    \n",
    "    if len(games_with_weather) % 100 == 0:\n",
    "        print(len(games_with_weather), end=\" | \")\n",
    "    \n",
    "    # time.sleep(0.1) # try not to get throttled"
   ]
  },
  {
   "cell_type": "code",
   "execution_count": null,
   "id": "43b61421-4ec4-4d65-a181-13e31607d915",
   "metadata": {},
   "outputs": [],
   "source": [
    "# with open('../outputs/save_weather_2023_2024.json', 'w') as sw:\n",
    "#     json.dump([x.model_dump_json() for x in games_with_weather], sw)"
   ]
  }
 ],
 "metadata": {
  "kernelspec": {
   "display_name": "Practice (3.8.11)",
   "language": "python",
   "name": "practice"
  },
  "language_info": {
   "codemirror_mode": {
    "name": "ipython",
    "version": 3
   },
   "file_extension": ".py",
   "mimetype": "text/x-python",
   "name": "python",
   "nbconvert_exporter": "python",
   "pygments_lexer": "ipython3",
   "version": "3.8.11"
  }
 },
 "nbformat": 4,
 "nbformat_minor": 5
}
