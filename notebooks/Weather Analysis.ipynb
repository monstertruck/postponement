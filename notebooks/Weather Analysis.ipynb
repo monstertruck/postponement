{
 "cells": [
  {
   "cell_type": "code",
   "execution_count": null,
   "id": "5439b2e9-2734-4c03-8850-53460f932a0b",
   "metadata": {},
   "outputs": [],
   "source": [
    "import json\n",
    "import seaborn as sns\n",
    "from schema import NBAArena, NBATeam, WeatherSummary, NBAGame, NBAGameWeather, RegularSeason\n",
    "\n",
    "import numpy as np\n",
    "\n",
    "from scipy.stats import percentileofscore"
   ]
  },
  {
   "cell_type": "code",
   "execution_count": null,
   "id": "f70e200d-8714-45c5-851d-29aaf19c046b",
   "metadata": {},
   "outputs": [],
   "source": [
    "with open('../outputs/save_weather_2023_2024.json', 'r') as weather_file:\n",
    "    weather_2324 = json.load(weather_file)"
   ]
  },
  {
   "cell_type": "code",
   "execution_count": null,
   "id": "99499258-643e-45dd-88a3-ec03ecfc99b5",
   "metadata": {},
   "outputs": [],
   "source": [
    "typed_weather = [NBAGameWeather.model_validate_json(x) for x in weather_2324]"
   ]
  },
  {
   "cell_type": "code",
   "execution_count": null,
   "id": "01a1582a-a109-4de1-8c8b-8dfed32dbf7e",
   "metadata": {},
   "outputs": [],
   "source": [
    "low_temps = [x.weather_summary.temp_low_f for x in typed_weather]\n",
    "high_temps = [x.weather_summary.temp_high_f for x in typed_weather]\n",
    "precips = [x.weather_summary.precipitation_mm for x in typed_weather]"
   ]
  },
  {
   "cell_type": "code",
   "execution_count": null,
   "id": "b4fc4e90-2000-4c33-b0ee-753ca2a5d0cf",
   "metadata": {},
   "outputs": [],
   "source": [
    "low_plot = sns.histplot(low_temps, kde=True).set_title(\"Low Temperature\")\n",
    "low_plot.figure.savefig(\"../outputs/low_plot.png\", facecolor=\"white\")"
   ]
  },
  {
   "cell_type": "code",
   "execution_count": null,
   "id": "fb5e23dc-78c3-4655-9b22-bf74683e3c7b",
   "metadata": {},
   "outputs": [],
   "source": [
    "sns.histplot(high_temps, kde=True).set_title(\"High Temperature\")"
   ]
  },
  {
   "cell_type": "code",
   "execution_count": null,
   "id": "b7827f3f-6ee9-419e-a44b-ef3b186c8890",
   "metadata": {},
   "outputs": [],
   "source": [
    "max(precips)\n",
    "positive_precip = [x for x in precips if x > 0]"
   ]
  },
  {
   "cell_type": "code",
   "execution_count": null,
   "id": "6c7c9a7e-0ba6-477e-bd71-2a99dd897e29",
   "metadata": {},
   "outputs": [],
   "source": [
    "pos_precip = sns.histplot(positive_precip, kde=True).set_title(\"Precipitation (mm), > 0\")\n",
    "pos_precip.figure.savefig(\"../outputs/pos_precip.png\", facecolor=\"white\")"
   ]
  },
  {
   "cell_type": "code",
   "execution_count": null,
   "id": "3690b9e1-a3a6-48fe-a89c-8ed9f7f4fb70",
   "metadata": {},
   "outputs": [],
   "source": [
    "lowest_10_temps = sorted(low_temps)[0:10]"
   ]
  },
  {
   "cell_type": "code",
   "execution_count": null,
   "id": "bcf94c06-ad2d-4393-8435-5c1cb0c3a962",
   "metadata": {},
   "outputs": [],
   "source": [
    "highest_4_precips = sorted(precips, reverse=True)[0:4]"
   ]
  },
  {
   "cell_type": "code",
   "execution_count": null,
   "id": "06d6efef-dc53-4c62-bb55-e64a7511a24a",
   "metadata": {},
   "outputs": [],
   "source": [
    "extremes = [x for x in typed_weather if x.weather_summary.temp_low_f in lowest_10_temps or x.weather_summary.precipitation_mm in highest_4_precips]"
   ]
  },
  {
   "cell_type": "code",
   "execution_count": null,
   "id": "39398bdb-6d04-455e-b176-cc17a554e941",
   "metadata": {},
   "outputs": [],
   "source": []
  },
  {
   "cell_type": "code",
   "execution_count": null,
   "id": "4af20e72-f955-424c-9e33-13acae720e68",
   "metadata": {},
   "outputs": [],
   "source": [
    "percentile_of_4 = percentileofscore(precips, 44)"
   ]
  },
  {
   "cell_type": "code",
   "execution_count": null,
   "id": "441dd3fa-de15-4848-9b15-3713128c5d5d",
   "metadata": {},
   "outputs": [],
   "source": [
    "percentile_of_4 = percentileofscore(precips, 0)"
   ]
  },
  {
   "cell_type": "code",
   "execution_count": null,
   "id": "1a50fca0-f617-49f1-a0e3-da8b262cc05a",
   "metadata": {},
   "outputs": [],
   "source": [
    "percentile_of_4"
   ]
  },
  {
   "cell_type": "code",
   "execution_count": null,
   "id": "428cba47-af58-4b32-a613-0647cc6e897d",
   "metadata": {},
   "outputs": [],
   "source": [
    "100 - percentile_of_3"
   ]
  },
  {
   "cell_type": "code",
   "execution_count": null,
   "id": "30dfd3e8-8a8b-4dab-8ec0-cd0c92e3eedc",
   "metadata": {},
   "outputs": [],
   "source": [
    "from statistics import geometric_mean"
   ]
  },
  {
   "cell_type": "code",
   "execution_count": null,
   "id": "6f42c2bb-b090-48f6-b396-14535acfccc1",
   "metadata": {},
   "outputs": [],
   "source": [
    "score = [geometric_mean([percentileofscore(precips, x.weather_summary.precipitation_mm), (101-percentileofscore(low_temps, x.weather_summary.temp_low_f))]) for x in typed_weather]"
   ]
  },
  {
   "cell_type": "code",
   "execution_count": null,
   "id": "9eb4a69f-3490-48e9-b816-acedf9c29733",
   "metadata": {},
   "outputs": [],
   "source": [
    "combined = sns.histplot(score, kde=True).set_title(\"Combined (low) temperature and precipitation percentiles\")\n",
    "combined.figure.savefig('../outputs/combined.png', facecolor=\"white\")"
   ]
  }
 ],
 "metadata": {
  "kernelspec": {
   "display_name": "Practice (3.8.11)",
   "language": "python",
   "name": "practice"
  },
  "language_info": {
   "codemirror_mode": {
    "name": "ipython",
    "version": 3
   },
   "file_extension": ".py",
   "mimetype": "text/x-python",
   "name": "python",
   "nbconvert_exporter": "python",
   "pygments_lexer": "ipython3",
   "version": "3.8.11"
  }
 },
 "nbformat": 4,
 "nbformat_minor": 5
}
